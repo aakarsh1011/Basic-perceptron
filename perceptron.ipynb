{
 "cells": [
  {
   "cell_type": "markdown",
   "metadata": {},
   "source": [
    "#first neural network practice \n",
    "#creating one small perceptron to understand its working\n",
    "#using numpy for creating arrays and functions and we will do back propagation too to understand \n",
    "#how adjustment of the weights work\n",
    "#neural network is just a mathematicala replica of our brain and a single layered neural network that is \n",
    "#perceptron is just equivalent to a single neuron"
   ]
  },
  {
   "cell_type": "code",
   "execution_count": 57,
   "metadata": {},
   "outputs": [],
   "source": [
    "#Importing numpy library\n",
    "import numpy as np"
   ]
  },
  {
   "cell_type": "code",
   "execution_count": 58,
   "metadata": {},
   "outputs": [],
   "source": [
    "#lets assign our input array or training inputs\n",
    "training_input = np.array([[0,0,1],\n",
    "                          [1,1,1],\n",
    "                          [1,0,1],\n",
    "                          [0,1,1]])"
   ]
  },
  {
   "cell_type": "code",
   "execution_count": 59,
   "metadata": {},
   "outputs": [],
   "source": [
    "#our actual outputs \n",
    "#here T is for transpose the array\n",
    "training_output = np.array([[0,1,1,0]]).T"
   ]
  },
  {
   "cell_type": "code",
   "execution_count": 60,
   "metadata": {},
   "outputs": [
    {
     "name": "stdout",
     "output_type": "stream",
     "text": [
      "[[-0.16595599]\n",
      " [ 0.44064899]\n",
      " [-0.99977125]]\n"
     ]
    }
   ],
   "source": [
    "#lets create random genrated weights but keep it constant for all our iterations\n",
    "#(3,1) is the dimension of the weight array\n",
    "#we will use this weights afterwords so we will keep the genrated weights constant\n",
    "np.random.seed(1)\n",
    "#3 inputs hence 3 *1 matrix and values between -1 to 1\n",
    "synaptic_weights = 2 * np.random.random((3,1)) - 1\n",
    "print(synaptic_weights)"
   ]
  },
  {
   "cell_type": "code",
   "execution_count": 61,
   "metadata": {},
   "outputs": [],
   "source": [
    "#defining the sigmoid function for activation\n",
    "def sigmoid(x):\n",
    "    return 1 / (1 + np.exp(-x))\n",
    "#for now we will not adjust our weights and errors\n",
    "#to see how much error we get"
   ]
  },
  {
   "cell_type": "code",
   "execution_count": 62,
   "metadata": {},
   "outputs": [
    {
     "data": {
      "text/plain": [
       "'#now lets calculate the output\\n#which is sum of dot products of input values and their weights times the activation function\\nfor i in range(1):\\n    output = sigmoid(np.dot(training_input,synaptic_weights))\\nprint(output)'"
      ]
     },
     "execution_count": 62,
     "metadata": {},
     "output_type": "execute_result"
    }
   ],
   "source": [
    "'''#now lets calculate the output\n",
    "#which is sum of dot products of input values and their weights times the activation function\n",
    "for i in range(1):\n",
    "    output = sigmoid(np.dot(training_input,synaptic_weights))\n",
    "print(output)'''"
   ]
  },
  {
   "cell_type": "code",
   "execution_count": 63,
   "metadata": {},
   "outputs": [],
   "source": [
    "#as we can see the difference between ouput and the training output is significant\n",
    "#we can reduce this by adjusting the weights\n",
    "#to do this we need the derivative of sigmoid\n",
    "def derivative_sigmoid(x):\n",
    "    return x * (1 - x)"
   ]
  },
  {
   "cell_type": "code",
   "execution_count": 67,
   "metadata": {},
   "outputs": [
    {
     "name": "stdout",
     "output_type": "stream",
     "text": [
      "[[0.00125963]\n",
      " [0.9989717 ]\n",
      " [0.99916084]\n",
      " [0.00102799]]\n"
     ]
    }
   ],
   "source": [
    "#we have to calculate the error and adjustments \n",
    "#we have to update our weights accordingly\n",
    "#which is the dot product of a Transpose of the input matrix and the adjustments\n",
    "for i in range(500000):\n",
    "        output = sigmoid(np.dot(training_input,synaptic_weights))\n",
    "        error = training_output - output\n",
    "        adjustment = error * derivative_sigmoid(output)\n",
    "        synaptic_weights += np.dot(training_input.T,adjustment)\n",
    "print(output)"
   ]
  },
  {
   "cell_type": "code",
   "execution_count": 68,
   "metadata": {},
   "outputs": [
    {
     "name": "stdout",
     "output_type": "stream",
     "text": [
      "[[13.75794128]\n",
      " [-0.20344092]\n",
      " [-6.67567642]]\n"
     ]
    }
   ],
   "source": [
    "print(synaptic_weights)"
   ]
  },
  {
   "cell_type": "code",
   "execution_count": null,
   "metadata": {},
   "outputs": [],
   "source": []
  }
 ],
 "metadata": {
  "kernelspec": {
   "display_name": "Python 3",
   "language": "python",
   "name": "python3"
  },
  "language_info": {
   "codemirror_mode": {
    "name": "ipython",
    "version": 3
   },
   "file_extension": ".py",
   "mimetype": "text/x-python",
   "name": "python",
   "nbconvert_exporter": "python",
   "pygments_lexer": "ipython3",
   "version": "3.7.3"
  }
 },
 "nbformat": 4,
 "nbformat_minor": 2
}
